{
 "cells": [
  {
   "cell_type": "code",
   "execution_count": 1,
   "id": "f38cb46e",
   "metadata": {},
   "outputs": [],
   "source": [
    "import pandas as pd\n",
    "import numpy as np\n",
    "import seaborn as sns\n",
    "import matplotlib.pyplot as plt\n",
    "from sklearn.model_selection import train_test_split\n",
    "from sklearn.ensemble import RandomForestRegressor\n",
    "from sklearn import metrics"
   ]
  },
  {
   "cell_type": "markdown",
   "id": "2b0f2895",
   "metadata": {},
   "source": [
    "# Data"
   ]
  },
  {
   "cell_type": "code",
   "execution_count": 2,
   "id": "5816f64c",
   "metadata": {},
   "outputs": [
    {
     "data": {
      "text/html": [
       "<div>\n",
       "<style scoped>\n",
       "    .dataframe tbody tr th:only-of-type {\n",
       "        vertical-align: middle;\n",
       "    }\n",
       "\n",
       "    .dataframe tbody tr th {\n",
       "        vertical-align: top;\n",
       "    }\n",
       "\n",
       "    .dataframe thead th {\n",
       "        text-align: right;\n",
       "    }\n",
       "</style>\n",
       "<table border=\"1\" class=\"dataframe\">\n",
       "  <thead>\n",
       "    <tr style=\"text-align: right;\">\n",
       "      <th></th>\n",
       "      <th>Date</th>\n",
       "      <th>SPX</th>\n",
       "      <th>GLD</th>\n",
       "      <th>USO</th>\n",
       "      <th>SLV</th>\n",
       "      <th>EUR/USD</th>\n",
       "    </tr>\n",
       "  </thead>\n",
       "  <tbody>\n",
       "    <tr>\n",
       "      <th>0</th>\n",
       "      <td>1/2/2008</td>\n",
       "      <td>1447.160034</td>\n",
       "      <td>84.860001</td>\n",
       "      <td>78.470001</td>\n",
       "      <td>15.1800</td>\n",
       "      <td>1.471692</td>\n",
       "    </tr>\n",
       "    <tr>\n",
       "      <th>1</th>\n",
       "      <td>1/3/2008</td>\n",
       "      <td>1447.160034</td>\n",
       "      <td>85.570000</td>\n",
       "      <td>78.370003</td>\n",
       "      <td>15.2850</td>\n",
       "      <td>1.474491</td>\n",
       "    </tr>\n",
       "    <tr>\n",
       "      <th>2</th>\n",
       "      <td>1/4/2008</td>\n",
       "      <td>1411.630005</td>\n",
       "      <td>85.129997</td>\n",
       "      <td>77.309998</td>\n",
       "      <td>15.1670</td>\n",
       "      <td>1.475492</td>\n",
       "    </tr>\n",
       "    <tr>\n",
       "      <th>3</th>\n",
       "      <td>1/7/2008</td>\n",
       "      <td>1416.180054</td>\n",
       "      <td>84.769997</td>\n",
       "      <td>75.500000</td>\n",
       "      <td>15.0530</td>\n",
       "      <td>1.468299</td>\n",
       "    </tr>\n",
       "    <tr>\n",
       "      <th>4</th>\n",
       "      <td>1/8/2008</td>\n",
       "      <td>1390.189941</td>\n",
       "      <td>86.779999</td>\n",
       "      <td>76.059998</td>\n",
       "      <td>15.5900</td>\n",
       "      <td>1.557099</td>\n",
       "    </tr>\n",
       "    <tr>\n",
       "      <th>...</th>\n",
       "      <td>...</td>\n",
       "      <td>...</td>\n",
       "      <td>...</td>\n",
       "      <td>...</td>\n",
       "      <td>...</td>\n",
       "      <td>...</td>\n",
       "    </tr>\n",
       "    <tr>\n",
       "      <th>2285</th>\n",
       "      <td>5/8/2018</td>\n",
       "      <td>2671.919922</td>\n",
       "      <td>124.589996</td>\n",
       "      <td>14.060000</td>\n",
       "      <td>15.5100</td>\n",
       "      <td>1.186789</td>\n",
       "    </tr>\n",
       "    <tr>\n",
       "      <th>2286</th>\n",
       "      <td>5/9/2018</td>\n",
       "      <td>2697.790039</td>\n",
       "      <td>124.330002</td>\n",
       "      <td>14.370000</td>\n",
       "      <td>15.5300</td>\n",
       "      <td>1.184722</td>\n",
       "    </tr>\n",
       "    <tr>\n",
       "      <th>2287</th>\n",
       "      <td>5/10/2018</td>\n",
       "      <td>2723.070068</td>\n",
       "      <td>125.180000</td>\n",
       "      <td>14.410000</td>\n",
       "      <td>15.7400</td>\n",
       "      <td>1.191753</td>\n",
       "    </tr>\n",
       "    <tr>\n",
       "      <th>2288</th>\n",
       "      <td>5/14/2018</td>\n",
       "      <td>2730.129883</td>\n",
       "      <td>124.489998</td>\n",
       "      <td>14.380000</td>\n",
       "      <td>15.5600</td>\n",
       "      <td>1.193118</td>\n",
       "    </tr>\n",
       "    <tr>\n",
       "      <th>2289</th>\n",
       "      <td>5/16/2018</td>\n",
       "      <td>2725.780029</td>\n",
       "      <td>122.543800</td>\n",
       "      <td>14.405800</td>\n",
       "      <td>15.4542</td>\n",
       "      <td>1.182033</td>\n",
       "    </tr>\n",
       "  </tbody>\n",
       "</table>\n",
       "<p>2290 rows × 6 columns</p>\n",
       "</div>"
      ],
      "text/plain": [
       "           Date          SPX         GLD        USO      SLV   EUR/USD\n",
       "0      1/2/2008  1447.160034   84.860001  78.470001  15.1800  1.471692\n",
       "1      1/3/2008  1447.160034   85.570000  78.370003  15.2850  1.474491\n",
       "2      1/4/2008  1411.630005   85.129997  77.309998  15.1670  1.475492\n",
       "3      1/7/2008  1416.180054   84.769997  75.500000  15.0530  1.468299\n",
       "4      1/8/2008  1390.189941   86.779999  76.059998  15.5900  1.557099\n",
       "...         ...          ...         ...        ...      ...       ...\n",
       "2285   5/8/2018  2671.919922  124.589996  14.060000  15.5100  1.186789\n",
       "2286   5/9/2018  2697.790039  124.330002  14.370000  15.5300  1.184722\n",
       "2287  5/10/2018  2723.070068  125.180000  14.410000  15.7400  1.191753\n",
       "2288  5/14/2018  2730.129883  124.489998  14.380000  15.5600  1.193118\n",
       "2289  5/16/2018  2725.780029  122.543800  14.405800  15.4542  1.182033\n",
       "\n",
       "[2290 rows x 6 columns]"
      ]
     },
     "execution_count": 2,
     "metadata": {},
     "output_type": "execute_result"
    }
   ],
   "source": [
    "gold_data = pd.read_csv('gld_price_data.csv')\n",
    "gold_data"
   ]
  },
  {
   "cell_type": "code",
   "execution_count": 4,
   "id": "f851106a",
   "metadata": {},
   "outputs": [
    {
     "data": {
      "text/plain": [
       "(2290, 6)"
      ]
     },
     "execution_count": 4,
     "metadata": {},
     "output_type": "execute_result"
    }
   ],
   "source": [
    "gold_data.shape"
   ]
  },
  {
   "cell_type": "code",
   "execution_count": 5,
   "id": "871c9681",
   "metadata": {},
   "outputs": [
    {
     "data": {
      "text/html": [
       "<div>\n",
       "<style scoped>\n",
       "    .dataframe tbody tr th:only-of-type {\n",
       "        vertical-align: middle;\n",
       "    }\n",
       "\n",
       "    .dataframe tbody tr th {\n",
       "        vertical-align: top;\n",
       "    }\n",
       "\n",
       "    .dataframe thead th {\n",
       "        text-align: right;\n",
       "    }\n",
       "</style>\n",
       "<table border=\"1\" class=\"dataframe\">\n",
       "  <thead>\n",
       "    <tr style=\"text-align: right;\">\n",
       "      <th></th>\n",
       "      <th>SPX</th>\n",
       "      <th>GLD</th>\n",
       "      <th>USO</th>\n",
       "      <th>SLV</th>\n",
       "      <th>EUR/USD</th>\n",
       "    </tr>\n",
       "  </thead>\n",
       "  <tbody>\n",
       "    <tr>\n",
       "      <th>count</th>\n",
       "      <td>2290.000000</td>\n",
       "      <td>2290.000000</td>\n",
       "      <td>2290.000000</td>\n",
       "      <td>2290.000000</td>\n",
       "      <td>2290.000000</td>\n",
       "    </tr>\n",
       "    <tr>\n",
       "      <th>mean</th>\n",
       "      <td>1654.315776</td>\n",
       "      <td>122.732875</td>\n",
       "      <td>31.842221</td>\n",
       "      <td>20.084997</td>\n",
       "      <td>1.283653</td>\n",
       "    </tr>\n",
       "    <tr>\n",
       "      <th>std</th>\n",
       "      <td>519.111540</td>\n",
       "      <td>23.283346</td>\n",
       "      <td>19.523517</td>\n",
       "      <td>7.092566</td>\n",
       "      <td>0.131547</td>\n",
       "    </tr>\n",
       "    <tr>\n",
       "      <th>min</th>\n",
       "      <td>676.530029</td>\n",
       "      <td>70.000000</td>\n",
       "      <td>7.960000</td>\n",
       "      <td>8.850000</td>\n",
       "      <td>1.039047</td>\n",
       "    </tr>\n",
       "    <tr>\n",
       "      <th>25%</th>\n",
       "      <td>1239.874969</td>\n",
       "      <td>109.725000</td>\n",
       "      <td>14.380000</td>\n",
       "      <td>15.570000</td>\n",
       "      <td>1.171313</td>\n",
       "    </tr>\n",
       "    <tr>\n",
       "      <th>50%</th>\n",
       "      <td>1551.434998</td>\n",
       "      <td>120.580002</td>\n",
       "      <td>33.869999</td>\n",
       "      <td>17.268500</td>\n",
       "      <td>1.303297</td>\n",
       "    </tr>\n",
       "    <tr>\n",
       "      <th>75%</th>\n",
       "      <td>2073.010070</td>\n",
       "      <td>132.840004</td>\n",
       "      <td>37.827501</td>\n",
       "      <td>22.882500</td>\n",
       "      <td>1.369971</td>\n",
       "    </tr>\n",
       "    <tr>\n",
       "      <th>max</th>\n",
       "      <td>2872.870117</td>\n",
       "      <td>184.589996</td>\n",
       "      <td>117.480003</td>\n",
       "      <td>47.259998</td>\n",
       "      <td>1.598798</td>\n",
       "    </tr>\n",
       "  </tbody>\n",
       "</table>\n",
       "</div>"
      ],
      "text/plain": [
       "               SPX          GLD          USO          SLV      EUR/USD\n",
       "count  2290.000000  2290.000000  2290.000000  2290.000000  2290.000000\n",
       "mean   1654.315776   122.732875    31.842221    20.084997     1.283653\n",
       "std     519.111540    23.283346    19.523517     7.092566     0.131547\n",
       "min     676.530029    70.000000     7.960000     8.850000     1.039047\n",
       "25%    1239.874969   109.725000    14.380000    15.570000     1.171313\n",
       "50%    1551.434998   120.580002    33.869999    17.268500     1.303297\n",
       "75%    2073.010070   132.840004    37.827501    22.882500     1.369971\n",
       "max    2872.870117   184.589996   117.480003    47.259998     1.598798"
      ]
     },
     "execution_count": 5,
     "metadata": {},
     "output_type": "execute_result"
    }
   ],
   "source": [
    "gold_data.describe()"
   ]
  },
  {
   "cell_type": "code",
   "execution_count": 6,
   "id": "df6947c0",
   "metadata": {},
   "outputs": [
    {
     "data": {
      "text/plain": [
       "Date       0\n",
       "SPX        0\n",
       "GLD        0\n",
       "USO        0\n",
       "SLV        0\n",
       "EUR/USD    0\n",
       "dtype: int64"
      ]
     },
     "execution_count": 6,
     "metadata": {},
     "output_type": "execute_result"
    }
   ],
   "source": [
    "gold_data.isnull().sum()"
   ]
  },
  {
   "cell_type": "code",
   "execution_count": 7,
   "id": "3daad66e",
   "metadata": {},
   "outputs": [],
   "source": [
    "#Correlation\n",
    "correlation = gold_data.corr()"
   ]
  },
  {
   "cell_type": "code",
   "execution_count": 9,
   "id": "aed6942e",
   "metadata": {},
   "outputs": [
    {
     "data": {
      "text/plain": [
       "<AxesSubplot:>"
      ]
     },
     "execution_count": 9,
     "metadata": {},
     "output_type": "execute_result"
    },
    {
     "data": {
      "image/png": "[encoded data removed]",
      "text/plain": [
       "<Figure size 576x576 with 2 Axes>"
      ]
     },
     "metadata": {
      "needs_background": "light"
     },
     "output_type": "display_data"
    }
   ],
   "source": [
    "#Construct Heatmap\n",
    "plt.figure(figsize= (8,8))\n",
    "sns.heatmap(correlation, cbar=True, square=True, fmt='.2f', annot=True, annot_kws={'size':8}, cmap='Greens')"
   ]
  },
  {
   "cell_type": "code",
   "execution_count": 10,
   "id": "ed08ade9",
   "metadata": {},
   "outputs": [
    {
     "data": {
      "text/plain": [
       "SPX        0.049345\n",
       "GLD        1.000000\n",
       "USO       -0.186360\n",
       "SLV        0.866632\n",
       "EUR/USD   -0.024375\n",
       "Name: GLD, dtype: float64"
      ]
     },
     "execution_count": 10,
     "metadata": {},
     "output_type": "execute_result"
    }
   ],
   "source": [
    "#Print salah satu korelasi\n",
    "correlation['GLD']"
   ]
  },
  {
   "cell_type": "code",
   "execution_count": 11,
   "id": "e2a9cc05",
   "metadata": {},
   "outputs": [
    {
     "name": "stderr",
     "output_type": "stream",
     "text": [
      "C:\\ProgramData\\Anaconda3\\lib\\site-packages\\seaborn\\distributions.py:2619: FutureWarning: `distplot` is a deprecated function and will be removed in a future version. Please adapt your code to use either `displot` (a figure-level function with similar flexibility) or `histplot` (an axes-level function for histograms).\n",
      "  warnings.warn(msg, FutureWarning)\n"
     ]
    },
    {
     "data": {
      "text/plain": [
       "<AxesSubplot:xlabel='GLD', ylabel='Density'>"
      ]
     },
     "execution_count": 11,
     "metadata": {},
     "output_type": "execute_result"
    },
    {
     "data": {
      "image/png": "[encoded data removed]",
      "text/plain": [
       "<Figure size 432x288 with 1 Axes>"
      ]
     },
     "metadata": {
      "needs_background": "light"
     },
     "output_type": "display_data"
    }
   ],
   "source": [
    "#cek distribusi GLD\n",
    "sns.distplot(gold_data['GLD'],color='blue')"
   ]
  },
  {
   "cell_type": "markdown",
   "id": "8bfbb529",
   "metadata": {},
   "source": [
    "# Split data train dan data test"
   ]
  },
  {
   "cell_type": "code",
   "execution_count": 12,
   "id": "d9630970",
   "metadata": {},
   "outputs": [],
   "source": [
    "X = gold_data.drop(['Date','GLD'],axis=1)\n",
    "Y = gold_data['GLD']"
   ]
  },
  {
   "cell_type": "code",
   "execution_count": 13,
   "id": "438d7689",
   "metadata": {},
   "outputs": [
    {
     "data": {
      "text/html": [
       "<div>\n",
       "<style scoped>\n",
       "    .dataframe tbody tr th:only-of-type {\n",
       "        vertical-align: middle;\n",
       "    }\n",
       "\n",
       "    .dataframe tbody tr th {\n",
       "        vertical-align: top;\n",
       "    }\n",
       "\n",
       "    .dataframe thead th {\n",
       "        text-align: right;\n",
       "    }\n",
       "</style>\n",
       "<table border=\"1\" class=\"dataframe\">\n",
       "  <thead>\n",
       "    <tr style=\"text-align: right;\">\n",
       "      <th></th>\n",
       "      <th>SPX</th>\n",
       "      <th>USO</th>\n",
       "      <th>SLV</th>\n",
       "      <th>EUR/USD</th>\n",
       "    </tr>\n",
       "  </thead>\n",
       "  <tbody>\n",
       "    <tr>\n",
       "      <th>0</th>\n",
       "      <td>1447.160034</td>\n",
       "      <td>78.470001</td>\n",
       "      <td>15.1800</td>\n",
       "      <td>1.471692</td>\n",
       "    </tr>\n",
       "    <tr>\n",
       "      <th>1</th>\n",
       "      <td>1447.160034</td>\n",
       "      <td>78.370003</td>\n",
       "      <td>15.2850</td>\n",
       "      <td>1.474491</td>\n",
       "    </tr>\n",
       "    <tr>\n",
       "      <th>2</th>\n",
       "      <td>1411.630005</td>\n",
       "      <td>77.309998</td>\n",
       "      <td>15.1670</td>\n",
       "      <td>1.475492</td>\n",
       "    </tr>\n",
       "    <tr>\n",
       "      <th>3</th>\n",
       "      <td>1416.180054</td>\n",
       "      <td>75.500000</td>\n",
       "      <td>15.0530</td>\n",
       "      <td>1.468299</td>\n",
       "    </tr>\n",
       "    <tr>\n",
       "      <th>4</th>\n",
       "      <td>1390.189941</td>\n",
       "      <td>76.059998</td>\n",
       "      <td>15.5900</td>\n",
       "      <td>1.557099</td>\n",
       "    </tr>\n",
       "    <tr>\n",
       "      <th>...</th>\n",
       "      <td>...</td>\n",
       "      <td>...</td>\n",
       "      <td>...</td>\n",
       "      <td>...</td>\n",
       "    </tr>\n",
       "    <tr>\n",
       "      <th>2285</th>\n",
       "      <td>2671.919922</td>\n",
       "      <td>14.060000</td>\n",
       "      <td>15.5100</td>\n",
       "      <td>1.186789</td>\n",
       "    </tr>\n",
       "    <tr>\n",
       "      <th>2286</th>\n",
       "      <td>2697.790039</td>\n",
       "      <td>14.370000</td>\n",
       "      <td>15.5300</td>\n",
       "      <td>1.184722</td>\n",
       "    </tr>\n",
       "    <tr>\n",
       "      <th>2287</th>\n",
       "      <td>2723.070068</td>\n",
       "      <td>14.410000</td>\n",
       "      <td>15.7400</td>\n",
       "      <td>1.191753</td>\n",
       "    </tr>\n",
       "    <tr>\n",
       "      <th>2288</th>\n",
       "      <td>2730.129883</td>\n",
       "      <td>14.380000</td>\n",
       "      <td>15.5600</td>\n",
       "      <td>1.193118</td>\n",
       "    </tr>\n",
       "    <tr>\n",
       "      <th>2289</th>\n",
       "      <td>2725.780029</td>\n",
       "      <td>14.405800</td>\n",
       "      <td>15.4542</td>\n",
       "      <td>1.182033</td>\n",
       "    </tr>\n",
       "  </tbody>\n",
       "</table>\n",
       "<p>2290 rows × 4 columns</p>\n",
       "</div>"
      ],
      "text/plain": [
       "              SPX        USO      SLV   EUR/USD\n",
       "0     1447.160034  78.470001  15.1800  1.471692\n",
       "1     1447.160034  78.370003  15.2850  1.474491\n",
       "2     1411.630005  77.309998  15.1670  1.475492\n",
       "3     1416.180054  75.500000  15.0530  1.468299\n",
       "4     1390.189941  76.059998  15.5900  1.557099\n",
       "...           ...        ...      ...       ...\n",
       "2285  2671.919922  14.060000  15.5100  1.186789\n",
       "2286  2697.790039  14.370000  15.5300  1.184722\n",
       "2287  2723.070068  14.410000  15.7400  1.191753\n",
       "2288  2730.129883  14.380000  15.5600  1.193118\n",
       "2289  2725.780029  14.405800  15.4542  1.182033\n",
       "\n",
       "[2290 rows x 4 columns]"
      ]
     },
     "execution_count": 13,
     "metadata": {},
     "output_type": "execute_result"
    }
   ],
   "source": [
    "X"
   ]
  },
  {
   "cell_type": "code",
   "execution_count": 14,
   "id": "c83e6551",
   "metadata": {},
   "outputs": [
    {
     "data": {
      "text/plain": [
       "0        84.860001\n",
       "1        85.570000\n",
       "2        85.129997\n",
       "3        84.769997\n",
       "4        86.779999\n",
       "           ...    \n",
       "2285    124.589996\n",
       "2286    124.330002\n",
       "2287    125.180000\n",
       "2288    124.489998\n",
       "2289    122.543800\n",
       "Name: GLD, Length: 2290, dtype: float64"
      ]
     },
     "execution_count": 14,
     "metadata": {},
     "output_type": "execute_result"
    }
   ],
   "source": [
    "Y"
   ]
  },
  {
   "cell_type": "code",
   "execution_count": 15,
   "id": "a1906afa",
   "metadata": {},
   "outputs": [],
   "source": [
    "X_train, X_test, Y_train, Y_test = train_test_split(X,Y,test_size=0.2,random_state=2)"
   ]
  },
  {
   "cell_type": "markdown",
   "id": "41d0eb81",
   "metadata": {},
   "source": [
    "# Model Random Forest"
   ]
  },
  {
   "cell_type": "code",
   "execution_count": 16,
   "id": "62650102",
   "metadata": {},
   "outputs": [],
   "source": [
    "regressor = RandomForestRegressor(n_estimators=100)"
   ]
  },
  {
   "cell_type": "code",
   "execution_count": 17,
   "id": "5d8c31ba",
   "metadata": {},
   "outputs": [
    {
     "data": {
      "text/plain": [
       "RandomForestRegressor()"
      ]
     },
     "execution_count": 17,
     "metadata": {},
     "output_type": "execute_result"
    }
   ],
   "source": [
    "regressor.fit(X_train,Y_train)"
   ]
  },
  {
   "cell_type": "markdown",
   "id": "f581f1b6",
   "metadata": {},
   "source": [
    "# Model Evaluation"
   ]
  },
  {
   "cell_type": "code",
   "execution_count": 18,
   "id": "8084f880",
   "metadata": {},
   "outputs": [],
   "source": [
    "test_data_predict = regressor.predict(X_test)"
   ]
  },
  {
   "cell_type": "code",
   "execution_count": 19,
   "id": "a9819d3d",
   "metadata": {},
   "outputs": [
    {
     "data": {
      "text/plain": [
       "array([168.436899  ,  82.02149975, 116.15020011, 127.56010052,\n",
       "       120.65600151, 154.92259779, 150.3561987 , 125.94750027,\n",
       "       117.46089898, 126.06050028, 116.71940073, 171.22300096,\n",
       "       141.59029866, 167.78039836, 114.94770031, 117.70100046,\n",
       "       137.59750328, 169.90040134, 159.33070207, 156.77539965,\n",
       "       155.13860011, 125.23520043, 176.52529946, 156.97470401,\n",
       "       125.18650043,  93.90389978,  77.39010021, 120.33739988,\n",
       "       119.06319956, 167.57439956,  88.22510051, 125.12700044,\n",
       "        91.03730048, 117.76860014, 121.13579902, 135.94780145,\n",
       "       115.73210111, 115.29390097, 148.52410006, 107.08050081,\n",
       "       104.37890228,  87.13089784, 126.45950036, 118.08839969,\n",
       "       153.89949887, 119.57480008, 108.4924    , 108.27639802,\n",
       "        93.30650101, 127.17129765,  74.87300037, 113.63839933,\n",
       "       121.14270017, 111.29199927, 119.00769905, 120.6576997 ,\n",
       "       159.68580101, 166.77670122, 147.02829648,  85.87699848,\n",
       "        94.03150044,  86.89129861,  90.52650006, 119.07230059,\n",
       "       126.43880078, 127.5304001 , 169.49680073, 122.16129912,\n",
       "       117.56799913,  98.75070028, 167.6369023 , 143.5698983 ,\n",
       "       132.13360252, 121.19230219, 121.06429955, 119.52170067,\n",
       "       114.57020153, 118.26210064, 107.19610095, 127.88150089,\n",
       "       113.65819959, 107.73200011, 116.8613005 , 119.79839929,\n",
       "        89.06740031,  88.20579862, 146.42680145, 127.26280026,\n",
       "       113.2262001 , 109.62719864, 108.15689871,  77.03549921,\n",
       "       169.69390197, 114.09969929, 121.60469912, 127.79330159,\n",
       "       154.98639843,  91.97189947, 135.35090102, 159.02140357,\n",
       "       125.26980086, 125.31950061, 130.44650242, 115.034701  ,\n",
       "       119.88499994,  92.13579983, 110.29149863, 166.83590019,\n",
       "       157.23099899, 114.36209985, 106.61580138,  79.63549978,\n",
       "       113.2054003 , 125.79220103, 107.00399984, 119.32700066,\n",
       "       155.78900345, 160.06979911, 120.29699986, 134.99610286,\n",
       "       101.48799984, 117.52909798, 119.33880008, 112.97360078,\n",
       "       102.80289967, 160.2028976 ,  99.58660071, 149.14659937,\n",
       "       125.42380071, 170.26179947, 125.82959861, 127.36689714,\n",
       "       127.48690198, 113.86499917, 112.8990008 , 123.33469912,\n",
       "       102.1643992 ,  89.13879986, 124.75589955, 101.49599927,\n",
       "       107.21659924, 113.43160021, 117.60480076,  99.84469963,\n",
       "       121.83130056, 163.39059943,  87.25149856, 106.97179989,\n",
       "       117.15920108, 127.69580114, 124.0458007 ,  80.68809937,\n",
       "       120.24800041, 158.03159851,  87.94889966, 110.12329966,\n",
       "       118.92539947, 171.49629875, 103.02229909, 105.29460094,\n",
       "       122.6808001 , 158.47289825,  87.93859827,  93.49450043,\n",
       "       112.79980022, 177.18049962, 114.62439946, 119.33439997,\n",
       "        94.78470115, 125.72590042, 166.36160016, 114.94400053,\n",
       "       116.76120147,  88.26769861, 149.05930052, 120.36039938,\n",
       "        89.58059942, 110.76980022, 117.30490031, 118.64980119,\n",
       "        88.07189946,  94.11220004, 117.1683004 , 118.65550199,\n",
       "       120.40269998, 126.71169821, 121.85179988, 149.02110013,\n",
       "       165.49630126, 118.5691996 , 120.52000187, 152.05250003,\n",
       "       118.39819912, 172.29619879, 105.39449937, 104.92610157,\n",
       "       149.37270065, 113.82140049, 124.89290126, 147.54100068,\n",
       "       119.54510155, 115.28160066, 112.53410037, 113.52210181,\n",
       "       141.70930076, 117.88239784, 102.91790042, 115.74650114,\n",
       "       103.57340158,  99.55160043, 117.29070082,  90.60400035,\n",
       "        91.77380059, 153.23269952, 102.81449963, 154.23630075,\n",
       "       114.37310176, 138.07820118,  90.12759817, 115.39549975,\n",
       "       114.15729953, 122.91920013, 121.70460054, 165.50880139,\n",
       "        92.92879938, 135.55600113, 121.28069993, 120.59820068,\n",
       "       104.6840002 , 143.18580256, 121.72559914, 116.60830061,\n",
       "       113.46670091, 127.36869693, 122.70839941, 125.76479908,\n",
       "       121.17510065,  86.90719908, 132.48670245, 144.76770248,\n",
       "        92.74839975, 158.68459936, 159.4663018 , 126.04249888,\n",
       "       165.09469985, 108.81020007, 110.01370089, 103.69899831,\n",
       "        94.23510081, 127.58050273, 107.16280028, 162.03550041,\n",
       "       121.80360039, 132.00920081, 130.42940235, 161.33130016,\n",
       "        90.18239846, 175.54900138, 126.90790058, 126.66899875,\n",
       "        86.55869901, 124.61479966, 150.32929713,  89.74059956,\n",
       "       107.10620004, 109.1418998 ,  83.84879889, 136.34639949,\n",
       "       155.12940143, 139.23310337,  73.9171002 , 153.01540085,\n",
       "       126.08729956, 126.7859002 , 127.48239918, 108.71599942,\n",
       "       156.74190015, 114.75680114, 117.04900137, 124.98619955,\n",
       "       154.13010111, 120.99820015, 156.39859898,  92.95750067,\n",
       "       125.57320158, 125.65960032,  87.65310035,  92.16729908,\n",
       "       126.30289893, 127.90440328, 113.18600035, 117.64639785,\n",
       "       120.83890032, 127.28459756, 119.5181012 , 136.23850054,\n",
       "        93.86919925, 120.18160076, 113.07400112,  94.23629946,\n",
       "       108.98279993,  86.67069907, 108.98399946,  89.58189954,\n",
       "        92.58930055, 131.52780337, 162.4952012 ,  89.47729975,\n",
       "       119.56720078, 133.21000186, 123.92520025, 127.97830177,\n",
       "       101.85569824,  89.05019878, 131.44860114, 119.71110018,\n",
       "       108.45329978, 169.45200065, 115.20080058,  86.64139908,\n",
       "       118.91720055,  91.13149952, 161.4897004 , 116.63530051,\n",
       "       121.27150015, 160.06559822, 120.17499923, 112.84619912,\n",
       "       108.39969855, 126.66390004,  76.29580008, 103.05139977,\n",
       "       127.50580278, 121.81279933,  92.63650003, 132.06649994,\n",
       "       117.92410096, 116.10129976, 154.28120293, 159.20010073,\n",
       "       110.05269926, 153.77579812, 119.35320089, 160.74530159,\n",
       "       118.38860057, 159.05029947, 115.0088991 , 116.82740043,\n",
       "       147.87199848, 115.02030076, 125.84789842, 165.99919911,\n",
       "       117.64750032, 125.02499942, 153.25270395, 153.53720287,\n",
       "       132.10520146, 114.80280011, 121.28040209, 124.57440058,\n",
       "        89.83700037, 123.0934001 , 155.23370225, 111.69730051,\n",
       "       106.88139978, 161.35430087, 118.2302995 , 165.51169979,\n",
       "       134.07760093, 115.0856996 , 153.07969918, 168.67829973,\n",
       "       114.38710006, 113.95900093, 158.52769949,  85.3744989 ,\n",
       "       127.11740035, 128.02250025, 128.75159975, 124.3649005 ,\n",
       "       123.76720061,  90.78090082, 153.20850051,  97.11879977,\n",
       "       137.12660009,  89.24469898, 107.70999997, 115.07910045,\n",
       "       112.48500079, 124.23699923,  91.37299878, 125.23240084,\n",
       "       162.56819859, 119.97869911, 165.04470062, 126.6854981 ,\n",
       "       112.24839993, 127.53099937,  95.13139898,  91.03079948,\n",
       "       102.98949901, 120.83840046,  83.2805997 , 126.2594    ,\n",
       "       160.75970427, 117.37310101, 118.32499998, 119.77719993,\n",
       "       122.7261    , 120.14640128, 121.46190014, 118.3828007 ,\n",
       "       107.13479984, 148.31809976, 126.33559843, 115.56300097,\n",
       "        73.99530013, 127.77860085, 152.83640049, 122.02139984,\n",
       "       125.54200054,  88.76520034, 103.06019838, 124.8195006 ,\n",
       "       120.33470011,  73.35640084, 151.81309966, 121.14050027,\n",
       "       104.47960033,  86.24819784, 115.21809946, 172.22359852,\n",
       "       120.05970006, 160.48579758, 113.1702993 , 121.44460023,\n",
       "       118.42340097,  95.94889987, 118.74240045, 125.62620015,\n",
       "       118.41209956,  96.22080103, 153.74920187, 122.02400036,\n",
       "       147.29200056, 159.75540254, 113.82380014, 122.5723993 ,\n",
       "       149.0349978 , 127.08020046, 165.86770035, 136.03190035,\n",
       "       120.19709959, 167.26439905, 108.63139904, 121.7061984 ,\n",
       "       139.32840125, 107.34059925])"
      ]
     },
     "execution_count": 19,
     "metadata": {},
     "output_type": "execute_result"
    }
   ],
   "source": [
    "test_data_predict"
   ]
  },
  {
   "cell_type": "code",
   "execution_count": 20,
   "id": "eef87f9c",
   "metadata": {},
   "outputs": [
    {
     "data": {
      "text/plain": [
       "0.9892811612103677"
      ]
     },
     "execution_count": 20,
     "metadata": {},
     "output_type": "execute_result"
    }
   ],
   "source": [
    "#R square\n",
    "error_score = metrics.r2_score(Y_test,test_data_predict)\n",
    "error_score"
   ]
  },
  {
   "cell_type": "markdown",
   "id": "02770f74",
   "metadata": {},
   "source": [
    "# Membandingkan hasil prediksi dengan aktual"
   ]
  },
  {
   "cell_type": "code",
   "execution_count": 21,
   "id": "ee9fb9d8",
   "metadata": {},
   "outputs": [],
   "source": [
    "Y_test = list(Y_test)"
   ]
  },
  {
   "cell_type": "code",
   "execution_count": 24,
   "id": "db6337cc",
   "metadata": {},
   "outputs": [
    {
     "data": {
      "image/png": "[encoded data removed]",
      "text/plain": [
       "<Figure size 432x288 with 1 Axes>"
      ]
     },
     "metadata": {
      "needs_background": "light"
     },
     "output_type": "display_data"
    }
   ],
   "source": [
    "plt.plot(Y_test, color='blue', label='Actual Value')\n",
    "plt.plot(test_data_predict, color='green', label='Predict Value')\n",
    "plt.title('Actual vs Predict')\n",
    "plt.xlabel('Number Value')\n",
    "plt.ylabel('GLD Price')\n",
    "plt.legend()\n",
    "plt.show()"
   ]
  },
  {
   "cell_type": "code",
   "execution_count": null,
   "id": "f2f0395a",
   "metadata": {},
   "outputs": [],
   "source": []
  }
 ],
 "metadata": {
  "kernelspec": {
   "display_name": "Python 3 (ipykernel)",
   "language": "python",
   "name": "python3"
  },
  "language_info": {
   "codemirror_mode": {
    "name": "ipython",
    "version": 3
   },
   "file_extension": ".py",
   "mimetype": "text/x-python",
   "name": "python",
   "nbconvert_exporter": "python",
   "pygments_lexer": "ipython3",
   "version": "3.9.7"
  }
 },
 "nbformat": 4,
 "nbformat_minor": 5
}
